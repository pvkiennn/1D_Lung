{
 "cells": [
  {
   "cell_type": "code",
   "execution_count": 1,
   "metadata": {},
   "outputs": [],
   "source": [
    "import torch\n",
    "from torch_geometric.loader import DataLoader\n",
    "from data.graph_dataset import OneDDatasetBuilder, OneDDatasetLoader, normalize, dataset_to_loader, batchgraph_generation_wise, batchgraph\n",
    "import matplotlib.pyplot as plt"
   ]
  },
  {
   "cell_type": "code",
   "execution_count": 2,
   "metadata": {},
   "outputs": [],
   "source": [
    "class objectview(object):\n",
    "    def __init__(self, d) -> None:\n",
    "        self.__dict__ = d\n",
    "    def setattr(self, attr_name, attr_value):\n",
    "        self.__dict__[attr_name] = attr_value\n",
    "\n",
    "args = objectview({\n",
    "    'n_fields': 1,\n",
    "    'n_meshfields': (13, 0),\n",
    "    'n_timesteps': 201,\n",
    "    'n_previous_timesteps': 1,\n",
    "    'aggr': 'sum',\n",
    "    'alpha': 1.0,\n",
    "    'batch_size': 100,\n",
    "    'timestep': 201,\n",
    "    'timeslice_hops': 0,\n",
    "    'timeslice_steps': 1,\n",
    "    'n_data_per_batch': 50,\n",
    "    'forward_sequence': False,\n",
    "    'plot': False\n",
    "})"
   ]
  },
  {
   "cell_type": "code",
   "execution_count": 3,
   "metadata": {},
   "outputs": [],
   "source": [
    "# dataset = OneDDatasetBuilder(\n",
    "#     raw_dir='./datasets',\n",
    "#     root_dir='./pre_data',\n",
    "#     sub_dir='processed',\n",
    "#     subjects='all',\n",
    "#     time_names=[str(i).zfill(3) for i in range(201)],\n",
    "#     data_type = torch.float32,\n",
    "#     readme='edge_index(2xn_edge), node_attr(n_nodex10), pressure+flowrate(n_nodex201)'\n",
    "# )"
   ]
  },
  {
   "cell_type": "code",
   "execution_count": 4,
   "metadata": {},
   "outputs": [],
   "source": [
    "# datasets = OneDDatasetLoader(\n",
    "#     root_dir='./pre_data',\n",
    "#     sub_dir='processed',\n",
    "#     subjects='all',\n",
    "#     time_names=[str(i).zfill(3) for i in range(201)],\n",
    "#     data_type = torch.float32\n",
    "# )\n",
    "\n",
    "# dataset = normalize(\n",
    "#     dataset=datasets,\n",
    "#     sub_dir='normalized',\n",
    "#     scaler_dict={\n",
    "#         'node_attr': ('minmax_scaler', 0, None),\n",
    "#         'pressure': ('minmax_scaler', None, None),\n",
    "#         'flowrate': ('minmax_scaler', None, None)\n",
    "#     }\n",
    "# )"
   ]
  },
  {
   "cell_type": "code",
   "execution_count": 5,
   "metadata": {},
   "outputs": [
    {
     "name": "stderr",
     "output_type": "stream",
     "text": [
      "Processing...\n",
      "Done!\n"
     ]
    },
    {
     "name": "stdout",
     "output_type": "stream",
     "text": [
      "TorchGraphData(node_attr=[150, 13], edge_index=[2, 149], pressure=[150, 201], flowrate=[150, 201])\n",
      "TorchGraphData(node_attr=[59437, 13], edge_index=[2, 59283], pressure=[59437, 201], flowrate=[59437, 201])\n",
      "TorchGraphData(node_attr=[128, 13], edge_index=[2, 127], pressure=[128, 201], flowrate=[128, 201])\n",
      "TorchGraphData(node_attr=[59617, 13], edge_index=[2, 59488], pressure=[59617, 201], flowrate=[59617, 201])\n",
      "TorchGraphData(node_attr=[123, 13], edge_index=[2, 122], pressure=[123, 201], flowrate=[123, 201])\n",
      "TorchGraphData(node_attr=[59437, 13], edge_index=[2, 59316], pressure=[59437, 201], flowrate=[59437, 201])\n",
      "TorchGraphData(node_attr=[148, 13], edge_index=[2, 147], pressure=[148, 201], flowrate=[148, 201])\n",
      "TorchGraphData(node_attr=[59488, 13], edge_index=[2, 59336], pressure=[59488, 201], flowrate=[59488, 201])\n",
      "TorchGraphData(node_attr=[140, 13], edge_index=[2, 139], pressure=[140, 201], flowrate=[140, 201])\n",
      "TorchGraphData(node_attr=[59751, 13], edge_index=[2, 59613], pressure=[59751, 201], flowrate=[59751, 201])\n",
      "TorchGraphData(node_attr=[135, 13], edge_index=[2, 134], pressure=[135, 201], flowrate=[135, 201])\n",
      "TorchGraphData(node_attr=[59614, 13], edge_index=[2, 59481], pressure=[59614, 201], flowrate=[59614, 201])\n",
      "TorchGraphData(node_attr=[153, 13], edge_index=[2, 152], pressure=[153, 201], flowrate=[153, 201])\n",
      "TorchGraphData(node_attr=[59297, 13], edge_index=[2, 59140], pressure=[59297, 201], flowrate=[59297, 201])\n",
      "TorchGraphData(node_attr=[144, 13], edge_index=[2, 143], pressure=[144, 201], flowrate=[144, 201])\n",
      "TorchGraphData(node_attr=[59331, 13], edge_index=[2, 59185], pressure=[59331, 201], flowrate=[59331, 201])\n",
      "TorchGraphData(node_attr=[143, 13], edge_index=[2, 142], pressure=[143, 201], flowrate=[143, 201])\n",
      "TorchGraphData(node_attr=[59626, 13], edge_index=[2, 59482], pressure=[59626, 201], flowrate=[59626, 201])\n",
      "TorchGraphData(node_attr=[125, 13], edge_index=[2, 124], pressure=[125, 201], flowrate=[125, 201])\n",
      "TorchGraphData(node_attr=[59626, 13], edge_index=[2, 59500], pressure=[59626, 201], flowrate=[59626, 201])\n",
      "TorchGraphData(node_attr=[146, 13], edge_index=[2, 145], pressure=[146, 201], flowrate=[146, 201])\n",
      "TorchGraphData(node_attr=[59714, 13], edge_index=[2, 59565], pressure=[59714, 201], flowrate=[59714, 201])\n",
      "TorchGraphData(node_attr=[144, 13], edge_index=[2, 143], pressure=[144, 201], flowrate=[144, 201])\n",
      "TorchGraphData(node_attr=[59552, 13], edge_index=[2, 59406], pressure=[59552, 201], flowrate=[59552, 201])\n",
      "TorchGraphData(node_attr=[126, 13], edge_index=[2, 125], pressure=[126, 201], flowrate=[126, 201])\n",
      "TorchGraphData(node_attr=[59503, 13], edge_index=[2, 59378], pressure=[59503, 201], flowrate=[59503, 201])\n",
      "TorchGraphData(node_attr=[126, 13], edge_index=[2, 125], pressure=[126, 201], flowrate=[126, 201])\n",
      "TorchGraphData(node_attr=[59433, 13], edge_index=[2, 59311], pressure=[59433, 201], flowrate=[59433, 201])\n",
      "TorchGraphData(node_attr=[123, 13], edge_index=[2, 122], pressure=[123, 201], flowrate=[123, 201])\n",
      "TorchGraphData(node_attr=[59357, 13], edge_index=[2, 59232], pressure=[59357, 201], flowrate=[59357, 201])\n",
      "TorchGraphData(node_attr=[143, 13], edge_index=[2, 142], pressure=[143, 201], flowrate=[143, 201])\n",
      "TorchGraphData(node_attr=[59496, 13], edge_index=[2, 59352], pressure=[59496, 201], flowrate=[59496, 201])\n",
      "TorchGraphData(node_attr=[157, 13], edge_index=[2, 156], pressure=[157, 201], flowrate=[157, 201])\n",
      "TorchGraphData(node_attr=[59612, 13], edge_index=[2, 59453], pressure=[59612, 201], flowrate=[59612, 201])\n",
      "TorchGraphData(node_attr=[124, 13], edge_index=[2, 123], pressure=[124, 201], flowrate=[124, 201])\n",
      "TorchGraphData(node_attr=[59547, 13], edge_index=[2, 59427], pressure=[59547, 201], flowrate=[59547, 201])\n",
      "TorchGraphData(node_attr=[140, 13], edge_index=[2, 139], pressure=[140, 201], flowrate=[140, 201])\n",
      "TorchGraphData(node_attr=[59238, 13], edge_index=[2, 59096], pressure=[59238, 201], flowrate=[59238, 201])\n",
      "TorchGraphData(node_attr=[134, 13], edge_index=[2, 133], pressure=[134, 201], flowrate=[134, 201])\n",
      "TorchGraphData(node_attr=[59575, 13], edge_index=[2, 59440], pressure=[59575, 201], flowrate=[59575, 201])\n",
      "TorchGraphData(node_attr=[132, 13], edge_index=[2, 131], pressure=[132, 201], flowrate=[132, 201])\n",
      "TorchGraphData(node_attr=[60001, 13], edge_index=[2, 59867], pressure=[60001, 201], flowrate=[60001, 201])\n",
      "TorchGraphData(node_attr=[141, 13], edge_index=[2, 140], pressure=[141, 201], flowrate=[141, 201])\n",
      "TorchGraphData(node_attr=[59623, 13], edge_index=[2, 59479], pressure=[59623, 201], flowrate=[59623, 201])\n",
      "TorchGraphData(node_attr=[128, 13], edge_index=[2, 127], pressure=[128, 201], flowrate=[128, 201])\n",
      "TorchGraphData(node_attr=[59416, 13], edge_index=[2, 59294], pressure=[59416, 201], flowrate=[59416, 201])\n",
      "TorchGraphData(node_attr=[132, 13], edge_index=[2, 131], pressure=[132, 201], flowrate=[132, 201])\n",
      "TorchGraphData(node_attr=[59665, 13], edge_index=[2, 59534], pressure=[59665, 201], flowrate=[59665, 201])\n",
      "TorchGraphData(node_attr=[152, 13], edge_index=[2, 151], pressure=[152, 201], flowrate=[152, 201])\n",
      "TorchGraphData(node_attr=[59704, 13], edge_index=[2, 59545], pressure=[59704, 201], flowrate=[59704, 201])\n",
      "TorchGraphData(node_attr=[136, 13], edge_index=[2, 135], pressure=[136, 201], flowrate=[136, 201])\n",
      "TorchGraphData(node_attr=[59482, 13], edge_index=[2, 59343], pressure=[59482, 201], flowrate=[59482, 201])\n",
      "TorchGraphData(node_attr=[137, 13], edge_index=[2, 136], pressure=[137, 201], flowrate=[137, 201])\n",
      "TorchGraphData(node_attr=[59556, 13], edge_index=[2, 59414], pressure=[59556, 201], flowrate=[59556, 201])\n",
      "TorchGraphData(node_attr=[153, 13], edge_index=[2, 152], pressure=[153, 201], flowrate=[153, 201])\n",
      "TorchGraphData(node_attr=[59644, 13], edge_index=[2, 59490], pressure=[59644, 201], flowrate=[59644, 201])\n",
      "TorchGraphData(node_attr=[125, 13], edge_index=[2, 124], pressure=[125, 201], flowrate=[125, 201])\n",
      "TorchGraphData(node_attr=[59477, 13], edge_index=[2, 59353], pressure=[59477, 201], flowrate=[59477, 201])\n",
      "TorchGraphData(node_attr=[139, 13], edge_index=[2, 138], pressure=[139, 201], flowrate=[139, 201])\n",
      "TorchGraphData(node_attr=[59628, 13], edge_index=[2, 59488], pressure=[59628, 201], flowrate=[59628, 201])\n",
      "TorchGraphData(node_attr=[142, 13], edge_index=[2, 141], pressure=[142, 201], flowrate=[142, 201])\n",
      "TorchGraphData(node_attr=[59444, 13], edge_index=[2, 59299], pressure=[59444, 201], flowrate=[59444, 201])\n",
      "TorchGraphData(node_attr=[143, 13], edge_index=[2, 142], pressure=[143, 201], flowrate=[143, 201])\n",
      "TorchGraphData(node_attr=[59604, 13], edge_index=[2, 59458], pressure=[59604, 201], flowrate=[59604, 201])\n",
      "TorchGraphData(node_attr=[130, 13], edge_index=[2, 129], pressure=[130, 201], flowrate=[130, 201])\n",
      "TorchGraphData(node_attr=[59685, 13], edge_index=[2, 59553], pressure=[59685, 201], flowrate=[59685, 201])\n",
      "TorchGraphData(node_attr=[135, 13], edge_index=[2, 134], pressure=[135, 201], flowrate=[135, 201])\n",
      "TorchGraphData(node_attr=[59643, 13], edge_index=[2, 59512], pressure=[59643, 201], flowrate=[59643, 201])\n",
      "TorchGraphData(node_attr=[126, 13], edge_index=[2, 125], pressure=[126, 201], flowrate=[126, 201])\n",
      "TorchGraphData(node_attr=[59632, 13], edge_index=[2, 59507], pressure=[59632, 201], flowrate=[59632, 201])\n"
     ]
    },
    {
     "name": "stderr",
     "output_type": "stream",
     "text": [
      "Processing...\n",
      "Done!\n"
     ]
    }
   ],
   "source": [
    "datasets = OneDDatasetLoader(\n",
    "    root_dir='./pre_data',\n",
    "    sub_dir='normalized',\n",
    "    subjects='all',\n",
    "    time_names=[str(i).zfill(3) for i in range(201)],\n",
    "    data_type = torch.float32\n",
    ")\n",
    "\n",
    "dataset = batchgraph_generation_wise(\n",
    "    datasets,\n",
    "    sub_dir='batched',\n",
    "    batch_gens=[[0,7], [8, 50]],\n",
    "    timestep=None,\n",
    "    timeslice_hops=args.timeslice_hops,\n",
    "    timeslice_steps=args.timeslice_steps\n",
    ")"
   ]
  },
  {
   "cell_type": "code",
   "execution_count": 6,
   "metadata": {},
   "outputs": [],
   "source": [
    "data = torch.load('./pre_data/batched/batched_id.pt')"
   ]
  },
  {
   "cell_type": "code",
   "execution_count": 7,
   "metadata": {},
   "outputs": [
    {
     "name": "stdout",
     "output_type": "stream",
     "text": [
      "Values: tensor([ 0.,  1.,  2.,  3.,  4.,  5.,  6.,  7.,  8.,  9., 10., 11., 12., 13.,\n",
      "        14., 15., 16., 17., 18., 19., 20., 21., 22., 23., 24., 25., 26., 27.,\n",
      "        28., 29., 30., 31., 32., 33., 34.], dtype=torch.float64)\n",
      "Counts: tensor([257, 257, 257, 257, 257, 257, 257, 257, 257, 257, 257, 257, 257, 257,\n",
      "        257, 257, 257, 257, 257, 257, 257, 257, 257, 257, 257, 257, 257, 257,\n",
      "        257, 257, 257, 257, 257, 257, 257])\n"
     ]
    }
   ],
   "source": [
    "unique_values, counts = torch.unique(data, return_counts=True)\n",
    "\n",
    "print(\"Values:\", unique_values)\n",
    "print(\"Counts:\", counts)"
   ]
  },
  {
   "cell_type": "code",
   "execution_count": null,
   "metadata": {},
   "outputs": [],
   "source": [
    "x = next(iter(train_set)).cuda()\n",
    "x_trunk = torch.linspace(-1, 1, 201).cuda()\n",
    "x_trunk = x_trunk[:, None]\n",
    "model = Net1D(n_branch=13, width=1000, depth=3, p=512, act=torch.relu).cuda()\n",
    "output = model(x.node_attr, x.edge_index, x_trunk)\n",
    "\n",
    "myloss = LpLoss(size_average=True)\n",
    "loss = myloss(output.to(torch.float32), x.pressure.to(torch.float32))\n",
    "print(loss.item())"
   ]
  }
 ],
 "metadata": {
  "kernelspec": {
   "display_name": "pytorch",
   "language": "python",
   "name": "python3"
  },
  "language_info": {
   "codemirror_mode": {
    "name": "ipython",
    "version": 3
   },
   "file_extension": ".py",
   "mimetype": "text/x-python",
   "name": "python",
   "nbconvert_exporter": "python",
   "pygments_lexer": "ipython3",
   "version": "3.12.4"
  }
 },
 "nbformat": 4,
 "nbformat_minor": 2
}
