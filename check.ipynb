{
 "cells": [
  {
   "cell_type": "code",
   "execution_count": 3,
   "metadata": {},
   "outputs": [],
   "source": [
    "import torch\n",
    "from torch.nn import Linear\n",
    "from torch_geometric.nn import GCNConv\n",
    "from data.graph_dataset import OneDDatasetLoader\n",
    "from torch_geometric.nn.models import GAT"
   ]
  },
  {
   "cell_type": "code",
   "execution_count": 26,
   "metadata": {},
   "outputs": [
    {
     "name": "stderr",
     "output_type": "stream",
     "text": [
      "Processing...\n",
      "Done!\n"
     ]
    },
    {
     "data": {
      "text/plain": [
       "TorchGraphData(node_attr=[59588, 13], edge_index=[2, 59587], pressure=[59588, 201], flowrate=[59588, 201])"
      ]
     },
     "execution_count": 26,
     "metadata": {},
     "output_type": "execute_result"
    }
   ],
   "source": [
    "dataset = OneDDatasetLoader(\n",
    "    root_dir='./pre_data',\n",
    "    sub_dir='normalized',\n",
    "    subjects='all',\n",
    "    time_names=[str(i).zfill(3) for i in range(201)],\n",
    "    data_type = torch.float32\n",
    ")\n",
    "\n",
    "data = dataset[0]\n",
    "data.cuda()"
   ]
  },
  {
   "cell_type": "code",
   "execution_count": 32,
   "metadata": {},
   "outputs": [],
   "source": [
    "model = GAT(\n",
    "    in_channels=13,       # Number of input features per node (3 in this case)\n",
    "    hidden_channels=256,    # Number of hidden units\n",
    "    out_channels=201,       # Number of output classes (for classification, e.g., 2 classes)\n",
    "    num_layers=4,         # Number of GAT layers\n",
    "    dropout=0.4,          # Dropout rate\n",
    "    heads=32,\n",
    "    act=\"LeakyReLU\"             # Number of attention heads\n",
    ").cuda()"
   ]
  },
  {
   "cell_type": "code",
   "execution_count": 33,
   "metadata": {},
   "outputs": [],
   "source": [
    "out = model(data.node_attr.to(torch.float32), data.edge_index)"
   ]
  },
  {
   "cell_type": "code",
   "execution_count": 34,
   "metadata": {},
   "outputs": [
    {
     "data": {
      "text/plain": [
       "torch.Size([59588, 201])"
      ]
     },
     "execution_count": 34,
     "metadata": {},
     "output_type": "execute_result"
    }
   ],
   "source": [
    "out.shape"
   ]
  }
 ],
 "metadata": {
  "kernelspec": {
   "display_name": "pytorch",
   "language": "python",
   "name": "python3"
  },
  "language_info": {
   "codemirror_mode": {
    "name": "ipython",
    "version": 3
   },
   "file_extension": ".py",
   "mimetype": "text/x-python",
   "name": "python",
   "nbconvert_exporter": "python",
   "pygments_lexer": "ipython3",
   "version": "3.12.4"
  }
 },
 "nbformat": 4,
 "nbformat_minor": 2
}
